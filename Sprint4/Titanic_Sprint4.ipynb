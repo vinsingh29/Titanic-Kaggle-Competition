{
 "cells": [
  {
   "cell_type": "code",
   "execution_count": 1,
   "metadata": {},
   "outputs": [],
   "source": [
    "import warnings\n",
    "warnings.filterwarnings('ignore')\n",
    "import pandas as pd \n",
    "import numpy as np\n",
    "import matplotlib.pyplot as plt\n",
    "import seaborn as sns\n",
    "%matplotlib inline"
   ]
  },
  {
   "cell_type": "markdown",
   "metadata": {},
   "source": [
    "### 1. Loading data"
   ]
  },
  {
   "cell_type": "code",
   "execution_count": 2,
   "metadata": {},
   "outputs": [],
   "source": [
    "train = pd.read_csv(\"Titanic_train.csv\")\n",
    "test = pd.read_csv(\"Titanic_est.csv\")\n",
    "gender = pd.read_csv(\"gender_submission.csv\")"
   ]
  },
  {
   "cell_type": "code",
   "execution_count": 3,
   "metadata": {},
   "outputs": [
    {
     "name": "stdout",
     "output_type": "stream",
     "text": [
      "<class 'pandas.core.frame.DataFrame'>\n",
      "RangeIndex: 891 entries, 0 to 890\n",
      "Data columns (total 12 columns):\n",
      "PassengerId    891 non-null int64\n",
      "Survived       891 non-null int64\n",
      "Pclass         891 non-null int64\n",
      "Name           891 non-null object\n",
      "Sex            891 non-null object\n",
      "Age            714 non-null float64\n",
      "SibSp          891 non-null int64\n",
      "Parch          891 non-null int64\n",
      "Ticket         891 non-null object\n",
      "Fare           891 non-null float64\n",
      "Cabin          204 non-null object\n",
      "Embarked       889 non-null object\n",
      "dtypes: float64(2), int64(5), object(5)\n",
      "memory usage: 83.6+ KB\n"
     ]
    }
   ],
   "source": [
    "train.info()"
   ]
  },
  {
   "cell_type": "code",
   "execution_count": 4,
   "metadata": {},
   "outputs": [
    {
     "data": {
      "text/html": [
       "<div>\n",
       "<style scoped>\n",
       "    .dataframe tbody tr th:only-of-type {\n",
       "        vertical-align: middle;\n",
       "    }\n",
       "\n",
       "    .dataframe tbody tr th {\n",
       "        vertical-align: top;\n",
       "    }\n",
       "\n",
       "    .dataframe thead th {\n",
       "        text-align: right;\n",
       "    }\n",
       "</style>\n",
       "<table border=\"1\" class=\"dataframe\">\n",
       "  <thead>\n",
       "    <tr style=\"text-align: right;\">\n",
       "      <th></th>\n",
       "      <th>PassengerId</th>\n",
       "      <th>Survived</th>\n",
       "      <th>Pclass</th>\n",
       "      <th>Age</th>\n",
       "      <th>SibSp</th>\n",
       "      <th>Parch</th>\n",
       "      <th>Fare</th>\n",
       "    </tr>\n",
       "  </thead>\n",
       "  <tbody>\n",
       "    <tr>\n",
       "      <th>count</th>\n",
       "      <td>891.000000</td>\n",
       "      <td>891.000000</td>\n",
       "      <td>891.000000</td>\n",
       "      <td>714.000000</td>\n",
       "      <td>891.000000</td>\n",
       "      <td>891.000000</td>\n",
       "      <td>891.000000</td>\n",
       "    </tr>\n",
       "    <tr>\n",
       "      <th>mean</th>\n",
       "      <td>446.000000</td>\n",
       "      <td>0.383838</td>\n",
       "      <td>2.308642</td>\n",
       "      <td>29.699118</td>\n",
       "      <td>0.523008</td>\n",
       "      <td>0.381594</td>\n",
       "      <td>32.204208</td>\n",
       "    </tr>\n",
       "    <tr>\n",
       "      <th>std</th>\n",
       "      <td>257.353842</td>\n",
       "      <td>0.486592</td>\n",
       "      <td>0.836071</td>\n",
       "      <td>14.526497</td>\n",
       "      <td>1.102743</td>\n",
       "      <td>0.806057</td>\n",
       "      <td>49.693429</td>\n",
       "    </tr>\n",
       "    <tr>\n",
       "      <th>min</th>\n",
       "      <td>1.000000</td>\n",
       "      <td>0.000000</td>\n",
       "      <td>1.000000</td>\n",
       "      <td>0.420000</td>\n",
       "      <td>0.000000</td>\n",
       "      <td>0.000000</td>\n",
       "      <td>0.000000</td>\n",
       "    </tr>\n",
       "    <tr>\n",
       "      <th>25%</th>\n",
       "      <td>223.500000</td>\n",
       "      <td>0.000000</td>\n",
       "      <td>2.000000</td>\n",
       "      <td>20.125000</td>\n",
       "      <td>0.000000</td>\n",
       "      <td>0.000000</td>\n",
       "      <td>7.910400</td>\n",
       "    </tr>\n",
       "    <tr>\n",
       "      <th>50%</th>\n",
       "      <td>446.000000</td>\n",
       "      <td>0.000000</td>\n",
       "      <td>3.000000</td>\n",
       "      <td>28.000000</td>\n",
       "      <td>0.000000</td>\n",
       "      <td>0.000000</td>\n",
       "      <td>14.454200</td>\n",
       "    </tr>\n",
       "    <tr>\n",
       "      <th>75%</th>\n",
       "      <td>668.500000</td>\n",
       "      <td>1.000000</td>\n",
       "      <td>3.000000</td>\n",
       "      <td>38.000000</td>\n",
       "      <td>1.000000</td>\n",
       "      <td>0.000000</td>\n",
       "      <td>31.000000</td>\n",
       "    </tr>\n",
       "    <tr>\n",
       "      <th>max</th>\n",
       "      <td>891.000000</td>\n",
       "      <td>1.000000</td>\n",
       "      <td>3.000000</td>\n",
       "      <td>80.000000</td>\n",
       "      <td>8.000000</td>\n",
       "      <td>6.000000</td>\n",
       "      <td>512.329200</td>\n",
       "    </tr>\n",
       "  </tbody>\n",
       "</table>\n",
       "</div>"
      ],
      "text/plain": [
       "       PassengerId    Survived      Pclass         Age       SibSp  \\\n",
       "count   891.000000  891.000000  891.000000  714.000000  891.000000   \n",
       "mean    446.000000    0.383838    2.308642   29.699118    0.523008   \n",
       "std     257.353842    0.486592    0.836071   14.526497    1.102743   \n",
       "min       1.000000    0.000000    1.000000    0.420000    0.000000   \n",
       "25%     223.500000    0.000000    2.000000   20.125000    0.000000   \n",
       "50%     446.000000    0.000000    3.000000   28.000000    0.000000   \n",
       "75%     668.500000    1.000000    3.000000   38.000000    1.000000   \n",
       "max     891.000000    1.000000    3.000000   80.000000    8.000000   \n",
       "\n",
       "            Parch        Fare  \n",
       "count  891.000000  891.000000  \n",
       "mean     0.381594   32.204208  \n",
       "std      0.806057   49.693429  \n",
       "min      0.000000    0.000000  \n",
       "25%      0.000000    7.910400  \n",
       "50%      0.000000   14.454200  \n",
       "75%      0.000000   31.000000  \n",
       "max      6.000000  512.329200  "
      ]
     },
     "execution_count": 4,
     "metadata": {},
     "output_type": "execute_result"
    }
   ],
   "source": [
    "train.describe()"
   ]
  },
  {
   "cell_type": "markdown",
   "metadata": {},
   "source": [
    "### Overall survival rate\n"
   ]
  },
  {
   "cell_type": "code",
   "execution_count": 5,
   "metadata": {},
   "outputs": [
    {
     "name": "stdout",
     "output_type": "stream",
     "text": [
      "('Overall Survival Rate:', 0.3838383838383838)\n"
     ]
    }
   ],
   "source": [
    "print('Overall Survival Rate:',train['Survived'].mean())"
   ]
  },
  {
   "cell_type": "markdown",
   "metadata": {},
   "source": [
    "### 2. Data Cleaning and Features Choosing"
   ]
  },
  {
   "cell_type": "code",
   "execution_count": 6,
   "metadata": {},
   "outputs": [],
   "source": [
    "# get_dummies function\n",
    "def dummies(col,train,test):\n",
    "    train_dum = pd.get_dummies(train[col])\n",
    "    test_dum = pd.get_dummies(test[col])\n",
    "    train = pd.concat([train, train_dum], axis=1)\n",
    "    test = pd.concat([test,test_dum],axis=1)\n",
    "    train.drop(col,axis=1,inplace=True)\n",
    "    test.drop(col,axis=1,inplace=True)\n",
    "    return train, test\n",
    "\n",
    "# get rid of the useless cols\n",
    "dropping = ['PassengerId', 'Name', 'Ticket']\n",
    "train.drop(dropping,axis=1, inplace=True)\n",
    "test.drop(dropping,axis=1, inplace=True)"
   ]
  },
  {
   "cell_type": "markdown",
   "metadata": {},
   "source": [
    "### Survival graph of 3 classes"
   ]
  },
  {
   "cell_type": "code",
   "execution_count": 7,
   "metadata": {},
   "outputs": [
    {
     "name": "stdout",
     "output_type": "stream",
     "text": [
      "3    491\n",
      "1    216\n",
      "2    184\n",
      "Name: Pclass, dtype: int64\n"
     ]
    },
    {
     "data": {
      "image/png": "[encoded data removed]",
      "text/plain": [
       "<Figure size 360x360 with 1 Axes>"
      ]
     },
     "metadata": {
      "needs_background": "light"
     },
     "output_type": "display_data"
    }
   ],
   "source": [
    "warnings.filterwarnings('ignore')\n",
    "#pclass\n",
    "# ensure no na contained\n",
    "print(train.Pclass.value_counts(dropna=False))\n",
    "sns.factorplot('Pclass', 'Survived',data=train, order=[1,2,3])\n",
    "train, test = dummies('Pclass', train, test)"
   ]
  },
  {
   "cell_type": "markdown",
   "metadata": {},
   "source": [
    "### Female survival rate is way better than the male"
   ]
  },
  {
   "cell_type": "code",
   "execution_count": 8,
   "metadata": {
    "scrolled": true
   },
   "outputs": [
    {
     "name": "stdout",
     "output_type": "stream",
     "text": [
      "male      577\n",
      "female    314\n",
      "Name: Sex, dtype: int64\n"
     ]
    },
    {
     "data": {
      "image/png": "[encoded data removed]",
      "text/plain": [
       "<Figure size 360x360 with 1 Axes>"
      ]
     },
     "metadata": {
      "needs_background": "light"
     },
     "output_type": "display_data"
    }
   ],
   "source": [
    "print(train.Sex.value_counts(dropna=False))\n",
    "sns.factorplot('Sex','Survived', data=train)\n",
    "train, test = dummies('Sex', train, test)\n",
    "\n",
    "train.drop('male',axis=1,inplace=True)\n",
    "test.drop('male',axis=1,inplace=True)"
   ]
  },
  {
   "cell_type": "markdown",
   "metadata": {},
   "source": [
    "### dealing the missing data"
   ]
  },
  {
   "cell_type": "code",
   "execution_count": 9,
   "metadata": {},
   "outputs": [],
   "source": [
    "#age \n",
    "nan_num = train['Age'].isnull().sum()\n",
    "# there are 177 missing value, fill with random int\n",
    "age_mean = train['Age'].mean()\n",
    "age_std = train['Age'].std()\n",
    "filling = np.random.randint(age_mean-age_std, age_mean+age_std, size=nan_num)\n",
    "train['Age'][train['Age'].isnull()==True] = filling\n",
    "nan_num = train['Age'].isnull().sum()"
   ]
  },
  {
   "cell_type": "code",
   "execution_count": 10,
   "metadata": {},
   "outputs": [],
   "source": [
    "# dealing the missing val in test\n",
    "nan_num = test['Age'].isnull().sum()\n",
    "# 86 null\n",
    "age_mean = test['Age'].mean()\n",
    "age_std = test['Age'].std()\n",
    "filling = np.random.randint(age_mean-age_std,age_mean+age_std,size=nan_num)\n",
    "test['Age'][test['Age'].isnull()==True]=filling\n",
    "nan_num = test['Age'].isnull().sum()"
   ]
  },
  {
   "cell_type": "code",
   "execution_count": 11,
   "metadata": {},
   "outputs": [
    {
     "name": "stdout",
     "output_type": "stream",
     "text": [
      "from the graph, we see that the survival rate of children is higher than other and the 15-30 survival rate is lower\n"
     ]
    },
    {
     "data": {
      "image/png": "[encoded data removed]",
      "text/plain": [
       "<Figure size 699.875x216 with 1 Axes>"
      ]
     },
     "metadata": {
      "needs_background": "light"
     },
     "output_type": "display_data"
    }
   ],
   "source": [
    "#look into the age col\n",
    "s = sns.FacetGrid(train,hue='Survived',aspect=3)\n",
    "s.map(sns.kdeplot,'Age',shade=True)\n",
    "s.set(xlim=(0,train['Age'].max()))\n",
    "s.add_legend()\n",
    "print (\"from the graph, we see that the survival rate of children is higher than other and the 15-30 survival rate is lower\")"
   ]
  },
  {
   "cell_type": "code",
   "execution_count": 12,
   "metadata": {},
   "outputs": [],
   "source": [
    "def under15(row):\n",
    "    result = 0.0\n",
    "    if row<15:\n",
    "        result = 1.0\n",
    "    return result\n",
    "def young(row):\n",
    "    result = 0.0\n",
    "    if row>=15 and row<30:\n",
    "        result = 1.0\n",
    "    return result"
   ]
  },
  {
   "cell_type": "code",
   "execution_count": 13,
   "metadata": {},
   "outputs": [],
   "source": [
    "train['under15'] = train['Age'].apply(under15)\n",
    "test['under15'] = test['Age'].apply(under15)\n",
    "train['young'] = train['Age'].apply(young)\n",
    "test['young'] = test['Age'].apply(young)\n",
    "\n",
    "train.drop('Age',axis=1,inplace=True)\n",
    "test.drop('Age',axis=1,inplace=True)"
   ]
  },
  {
   "cell_type": "code",
   "execution_count": 14,
   "metadata": {
    "scrolled": true
   },
   "outputs": [
    {
     "name": "stdout",
     "output_type": "stream",
     "text": [
      "0    608\n",
      "1    209\n",
      "2     28\n",
      "4     18\n",
      "3     16\n",
      "8      7\n",
      "5      5\n",
      "Name: SibSp, dtype: int64\n"
     ]
    },
    {
     "data": {
      "text/plain": [
       "<seaborn.axisgrid.FacetGrid at 0x107721410>"
      ]
     },
     "execution_count": 14,
     "metadata": {},
     "output_type": "execute_result"
    },
    {
     "data": {
      "image/png": "[encoded data removed]",
      "text/plain": [
       "<Figure size 360x360 with 1 Axes>"
      ]
     },
     "metadata": {
      "needs_background": "light"
     },
     "output_type": "display_data"
    }
   ],
   "source": [
    "#family\n",
    "# chek\n",
    "print(train['SibSp'].value_counts(dropna=False))\n",
    "sns.factorplot('SibSp','Survived',data=train,size=5)"
   ]
  },
  {
   "cell_type": "code",
   "execution_count": 15,
   "metadata": {},
   "outputs": [
    {
     "name": "stdout",
     "output_type": "stream",
     "text": [
      "0    678\n",
      "1    118\n",
      "2     80\n",
      "5      5\n",
      "3      5\n",
      "4      4\n",
      "6      1\n",
      "Name: Parch, dtype: int64\n"
     ]
    },
    {
     "data": {
      "text/plain": [
       "<seaborn.axisgrid.FacetGrid at 0x1a18c3e8d0>"
      ]
     },
     "execution_count": 15,
     "metadata": {},
     "output_type": "execute_result"
    },
    {
     "data": {
      "image/png": "[encoded data removed]",
      "text/plain": [
       "<Figure size 360x360 with 1 Axes>"
      ]
     },
     "metadata": {
      "needs_background": "light"
     },
     "output_type": "display_data"
    }
   ],
   "source": [
    "print(train['Parch'].value_counts(dropna=False))\n",
    "sns.factorplot('Parch','Survived',data=train,size=5)"
   ]
  },
  {
   "cell_type": "code",
   "execution_count": 16,
   "metadata": {},
   "outputs": [
    {
     "data": {
      "text/plain": [
       "<seaborn.axisgrid.FacetGrid at 0x1a18b7ac90>"
      ]
     },
     "execution_count": 16,
     "metadata": {},
     "output_type": "execute_result"
    },
    {
     "data": {
      "image/png": "[encoded data removed]",
      "text/plain": [
       "<Figure size 360x360 with 1 Axes>"
      ]
     },
     "metadata": {
      "needs_background": "light"
     },
     "output_type": "display_data"
    }
   ],
   "source": [
    "train['family'] = train['SibSp'] + train['Parch']\n",
    "test['family'] = test['SibSp'] + test['Parch']\n",
    "sns.factorplot('family','Survived',data=train,size=5)"
   ]
  },
  {
   "cell_type": "markdown",
   "metadata": {},
   "source": [
    "'''through the plot, we suggest that with more family member, the survival rate will drop, we can create the new col\n",
    "add up the parch and sibsp to check our theory''' "
   ]
  },
  {
   "cell_type": "code",
   "execution_count": 17,
   "metadata": {},
   "outputs": [],
   "source": [
    "train.drop(['SibSp','Parch'],axis=1,inplace=True)\n",
    "test.drop(['SibSp','Parch'],axis=1,inplace=True)"
   ]
  },
  {
   "cell_type": "code",
   "execution_count": 18,
   "metadata": {},
   "outputs": [
    {
     "data": {
      "image/png": "[encoded data removed]",
      "text/plain": [
       "<Figure size 360x360 with 1 Axes>"
      ]
     },
     "metadata": {
      "needs_background": "light"
     },
     "output_type": "display_data"
    }
   ],
   "source": [
    "# fare\n",
    "# checking null, found one in test group. leave it alone til we find out\n",
    "# wether we should use this ft\n",
    "train.Fare.isnull().sum()\n",
    "test.Fare.isnull().sum()\n",
    "\n",
    "sns.factorplot('Survived','Fare',data=train,size=5)\n",
    "#according to the plot, smaller fare has higher survival rate, keep it\n",
    "#dealing the null val in test\n",
    "test['Fare'].fillna(test['Fare'].median(),inplace=True)"
   ]
  },
  {
   "cell_type": "code",
   "execution_count": 19,
   "metadata": {},
   "outputs": [],
   "source": [
    "#Cabin\n",
    "# checking missing val\n",
    "# 687 out of 891 are missing, drop this col\n",
    "train.Cabin.isnull().sum()\n",
    "train.drop('Cabin',axis=1,inplace=True)\n",
    "test.drop('Cabin',axis=1,inplace=True)"
   ]
  },
  {
   "cell_type": "code",
   "execution_count": 20,
   "metadata": {},
   "outputs": [
    {
     "data": {
      "image/png": "[encoded data removed]",
      "text/plain": [
       "<Figure size 432x432 with 1 Axes>"
      ]
     },
     "metadata": {
      "needs_background": "light"
     },
     "output_type": "display_data"
    }
   ],
   "source": [
    "#Embark\n",
    "train.Embarked.isnull().sum()\n",
    "\n",
    "# 2 missing value\n",
    "train.Embarked.value_counts()\n",
    "\n",
    "# fill the majority val,'s', into missing val col\n",
    "train['Embarked'].fillna('S',inplace=True)\n",
    "\n",
    "sns.factorplot('Embarked','Survived',data=train,size=6)\n",
    "\n",
    "# c has higher survival rate, drop the other two\n",
    "train,test = dummies('Embarked',train,test)\n",
    "\n",
    "train.drop(['S','Q'],axis=1,inplace=True)\n",
    "test.drop(['S','Q'],axis=1,inplace=True)"
   ]
  },
  {
   "cell_type": "code",
   "execution_count": 21,
   "metadata": {},
   "outputs": [],
   "source": [
    "# import machine learning libraries\n",
    "from sklearn.linear_model import LogisticRegression\n",
    "from sklearn.svm import SVC, LinearSVC\n",
    "from sklearn.ensemble import RandomForestClassifier,GradientBoostingClassifier\n",
    "from sklearn.neighbors import KNeighborsClassifier\n",
    "from sklearn.naive_bayes import GaussianNB\n",
    "from sklearn.metrics import accuracy_score\n",
    "from sklearn.model_selection import cross_val_score, KFold"
   ]
  },
  {
   "cell_type": "code",
   "execution_count": 22,
   "metadata": {},
   "outputs": [],
   "source": [
    "def modeling(clf,ft,target):\n",
    "    acc = cross_val_score(clf,ft,target,cv=kf)\n",
    "    acc_lst.append(acc.mean())\n",
    "    return "
   ]
  },
  {
   "cell_type": "code",
   "execution_count": 23,
   "metadata": {},
   "outputs": [],
   "source": [
    "accuracy = []\n",
    "def ml(ft,target,time):\n",
    "    accuracy.append(acc_lst)\n",
    "\n",
    "    #logisticregression\n",
    "    logreg = LogisticRegression()\n",
    "    modeling(logreg,ft,target)\n",
    "    \n",
    "    #RandomForest\n",
    "    rf = RandomForestClassifier(n_estimators=50,min_samples_split=4,min_samples_leaf=2)\n",
    "    modeling(rf,ft,target)\n",
    "    \n",
    "    #svc\n",
    "    svc = SVC()\n",
    "    modeling(svc,ft,target)\n",
    "    \n",
    "    #knn\n",
    "    knn = KNeighborsClassifier(n_neighbors = 3)\n",
    "    modeling(knn,ft,target)\n",
    "    \n",
    "    # see the coefficient\n",
    "    logreg.fit(ft,target)\n",
    "    feature = pd.DataFrame(ft.columns)\n",
    "    feature.columns = ['Features']\n",
    "    feature[\"Coefficient Estimate\"] = pd.Series(logreg.coef_[0])\n",
    "    print(feature)\n",
    "    return"
   ]
  },
  {
   "cell_type": "markdown",
   "metadata": {},
   "source": [
    "### Testing no.1, using all the feature"
   ]
  },
  {
   "cell_type": "code",
   "execution_count": 24,
   "metadata": {},
   "outputs": [
    {
     "name": "stdout",
     "output_type": "stream",
     "text": [
      "  Features  Coefficient Estimate\n",
      "0     Fare              0.004054\n",
      "1        1              0.404402\n",
      "2        2             -0.238423\n",
      "3        3             -1.262615\n",
      "4   female              2.683645\n",
      "5  under15              1.756806\n",
      "6    young              0.243337\n",
      "7   family             -0.308007\n",
      "8        C              0.364979\n"
     ]
    }
   ],
   "source": [
    "train_ft=train.drop('Survived',axis=1)\n",
    "train_y=train['Survived']\n",
    "\n",
    "#set kf\n",
    "kf = KFold(n_splits=3,random_state=1)\n",
    "acc_lst = []\n",
    "ml(train_ft,train_y,'test_1')"
   ]
  },
  {
   "cell_type": "markdown",
   "metadata": {},
   "source": [
    "### # Testing 2, lose young"
   ]
  },
  {
   "cell_type": "code",
   "execution_count": 25,
   "metadata": {},
   "outputs": [
    {
     "name": "stdout",
     "output_type": "stream",
     "text": [
      "  Features  Coefficient Estimate\n",
      "0     Fare              0.004285\n",
      "1        1              0.386195\n",
      "2        2             -0.207867\n",
      "3        3             -1.202922\n",
      "4   female              2.690898\n",
      "5  under15              1.645827\n",
      "6   family             -0.311682\n",
      "7        C              0.376629\n"
     ]
    }
   ],
   "source": [
    "train_ft_2=train.drop(['Survived','young'],axis=1)\n",
    "test_2 = test.drop('young',axis=1)\n",
    "train_ft.head()\n",
    "\n",
    "# ml\n",
    "kf = KFold(n_splits=3,random_state=1)\n",
    "acc_lst=[]\n",
    "ml(train_ft_2,train_y,'test_2')\n"
   ]
  },
  {
   "cell_type": "markdown",
   "metadata": {},
   "source": [
    "### Testing 3, lose young, c"
   ]
  },
  {
   "cell_type": "code",
   "execution_count": 27,
   "metadata": {},
   "outputs": [
    {
     "name": "stdout",
     "output_type": "stream",
     "text": [
      "  Features  Coefficient Estimate\n",
      "0     Fare              0.004920\n",
      "1        1              0.438557\n",
      "2        2             -0.225821\n",
      "3        3             -1.194444\n",
      "4   female              2.694665\n",
      "5  under15              1.679459\n",
      "6   family             -0.322922\n"
     ]
    }
   ],
   "source": [
    "train_ft_3=train.drop(['Survived','young','C'],axis=1)\n",
    "test_3 = test.drop(['young','C'],axis=1)\n",
    "train_ft.head()\n",
    "\n",
    "# ml\n",
    "kf = KFold(n_splits=3,random_state=1)\n",
    "acc_lst = []\n",
    "ml(train_ft_3,train_y,'test_3')"
   ]
  },
  {
   "cell_type": "markdown",
   "metadata": {},
   "source": [
    "### Testing 4, no FARE"
   ]
  },
  {
   "cell_type": "code",
   "execution_count": 29,
   "metadata": {},
   "outputs": [
    {
     "name": "stdout",
     "output_type": "stream",
     "text": [
      "  Features  Coefficient Estimate\n",
      "0        1              0.572528\n",
      "1        2             -0.266727\n",
      "2        3             -1.335212\n",
      "3   female              2.694469\n",
      "4  under15              1.726421\n",
      "5    young              0.262213\n",
      "6   family             -0.269012\n",
      "7        C              0.427798\n"
     ]
    }
   ],
   "source": [
    "train_ft_4=train.drop(['Survived','Fare'],axis=1)\n",
    "test_4 = test.drop(['Fare'],axis=1)\n",
    "train_ft.head()\n",
    "# ml\n",
    "kf = KFold(n_splits=3,random_state=1)\n",
    "acc_lst = []\n",
    "ml(train_ft_4,train_y,'test_4')"
   ]
  },
  {
   "cell_type": "markdown",
   "metadata": {},
   "source": [
    "### Testing 5, get rid of c "
   ]
  },
  {
   "cell_type": "code",
   "execution_count": 32,
   "metadata": {},
   "outputs": [
    {
     "name": "stdout",
     "output_type": "stream",
     "text": [
      "  Features  Coefficient Estimate\n",
      "0     Fare              0.004647\n",
      "1        1              0.456924\n",
      "2        2             -0.257928\n",
      "3        3             -1.257587\n",
      "4   female              2.686593\n",
      "5  under15              1.793516\n",
      "6    young              0.254593\n",
      "7   family             -0.318130\n"
     ]
    }
   ],
   "source": [
    "train_ft_5=train.drop(['Survived','C'],axis=1)\n",
    "test_5 = test.drop('C',axis=1)\n",
    "\n",
    "# ml\n",
    "kf = KFold(n_splits=3,random_state=1)\n",
    "acc_lst = []\n",
    "ml(train_ft_5,train_y,'test_5')"
   ]
  },
  {
   "cell_type": "markdown",
   "metadata": {},
   "source": [
    "### Testing 6, lose Fare and young"
   ]
  },
  {
   "cell_type": "code",
   "execution_count": 34,
   "metadata": {},
   "outputs": [
    {
     "name": "stdout",
     "output_type": "stream",
     "text": [
      "  Features  Coefficient Estimate\n",
      "0        1              0.562814\n",
      "1        2             -0.235606\n",
      "2        3             -1.274657\n",
      "3   female              2.702955\n",
      "4  under15              1.604597\n",
      "5   family             -0.270284\n",
      "6        C              0.442288\n"
     ]
    }
   ],
   "source": [
    "train_ft_6=train.drop(['Survived','Fare','young'],axis=1)\n",
    "test_6 = test.drop(['Fare','young'],axis=1)\n",
    "train_ft.head()\n",
    "# ml\n",
    "kf = KFold(n_splits=3,random_state=1)\n",
    "acc_lst = []\n",
    "ml(train_ft_6,train_y,'test_6')"
   ]
  },
  {
   "cell_type": "code",
   "execution_count": 35,
   "metadata": {},
   "outputs": [
    {
     "data": {
      "text/html": [
       "<div>\n",
       "<style scoped>\n",
       "    .dataframe tbody tr th:only-of-type {\n",
       "        vertical-align: middle;\n",
       "    }\n",
       "\n",
       "    .dataframe tbody tr th {\n",
       "        vertical-align: top;\n",
       "    }\n",
       "\n",
       "    .dataframe thead th {\n",
       "        text-align: right;\n",
       "    }\n",
       "</style>\n",
       "<table border=\"1\" class=\"dataframe\">\n",
       "  <thead>\n",
       "    <tr style=\"text-align: right;\">\n",
       "      <th></th>\n",
       "      <th>logistic</th>\n",
       "      <th>rf</th>\n",
       "      <th>svc</th>\n",
       "      <th>knn</th>\n",
       "    </tr>\n",
       "  </thead>\n",
       "  <tbody>\n",
       "    <tr>\n",
       "      <th>test1</th>\n",
       "      <td>0.797980</td>\n",
       "      <td>0.809203</td>\n",
       "      <td>0.745230</td>\n",
       "      <td>0.747475</td>\n",
       "    </tr>\n",
       "    <tr>\n",
       "      <th>test2</th>\n",
       "      <td>0.791246</td>\n",
       "      <td>0.818182</td>\n",
       "      <td>0.764310</td>\n",
       "      <td>0.757576</td>\n",
       "    </tr>\n",
       "    <tr>\n",
       "      <th>test3</th>\n",
       "      <td>0.796857</td>\n",
       "      <td>0.812570</td>\n",
       "      <td>0.763187</td>\n",
       "      <td>0.757576</td>\n",
       "    </tr>\n",
       "    <tr>\n",
       "      <th>test4</th>\n",
       "      <td>0.796857</td>\n",
       "      <td>0.810325</td>\n",
       "      <td>0.832772</td>\n",
       "      <td>0.778900</td>\n",
       "    </tr>\n",
       "    <tr>\n",
       "      <th>test5</th>\n",
       "      <td>0.794613</td>\n",
       "      <td>0.812570</td>\n",
       "      <td>0.760943</td>\n",
       "      <td>0.741863</td>\n",
       "    </tr>\n",
       "    <tr>\n",
       "      <th>test6</th>\n",
       "      <td>0.790123</td>\n",
       "      <td>0.823793</td>\n",
       "      <td>0.831650</td>\n",
       "      <td>0.775533</td>\n",
       "    </tr>\n",
       "  </tbody>\n",
       "</table>\n",
       "</div>"
      ],
      "text/plain": [
       "       logistic        rf       svc       knn\n",
       "test1  0.797980  0.809203  0.745230  0.747475\n",
       "test2  0.791246  0.818182  0.764310  0.757576\n",
       "test3  0.796857  0.812570  0.763187  0.757576\n",
       "test4  0.796857  0.810325  0.832772  0.778900\n",
       "test5  0.794613  0.812570  0.760943  0.741863\n",
       "test6  0.790123  0.823793  0.831650  0.775533"
      ]
     },
     "execution_count": 35,
     "metadata": {},
     "output_type": "execute_result"
    }
   ],
   "source": [
    "accuracy_df=pd.DataFrame(data=accuracy,\n",
    "                         index=['test1','test2','test3','test4','test5','test6'],\n",
    "                         columns=['logistic','rf','svc','knn'])\n",
    "accuracy_df"
   ]
  },
  {
   "cell_type": "code",
   "execution_count": 36,
   "metadata": {},
   "outputs": [
    {
     "name": "stdout",
     "output_type": "stream",
     "text": [
      "0.8327721661054994\n"
     ]
    }
   ],
   "source": [
    "'''\n",
    "According to the accuracy chart, 'features test4 with svc'\n",
    "got best performance\n",
    "'''  \n",
    "#test4 svc as submission\n",
    "svc = SVC()\n",
    "svc.fit(train_ft_4,train_y)\n",
    "svc_pred = svc.predict(test_4)\n",
    "print(svc.score(train_ft_4,train_y))\n"
   ]
  },
  {
   "cell_type": "code",
   "execution_count": 39,
   "metadata": {},
   "outputs": [],
   "source": [
    "test = pd.read_csv('Titanic_est.csv')\n",
    "submission = pd.DataFrame({\n",
    "        \"PassengerId\": test[\"PassengerId\"],\n",
    "        \"Survived\": svc_pred\n",
    "    })\n",
    "submission.to_csv(\"kaggle.csv\", index=False)"
   ]
  },
  {
   "cell_type": "code",
   "execution_count": 42,
   "metadata": {},
   "outputs": [
    {
     "data": {
      "text/plain": [
       "159"
      ]
     },
     "execution_count": 42,
     "metadata": {},
     "output_type": "execute_result"
    }
   ],
   "source": [
    "len(submission[submission.Survived==1])"
   ]
  },
  {
   "cell_type": "code",
   "execution_count": 43,
   "metadata": {},
   "outputs": [
    {
     "data": {
      "text/plain": [
       "259"
      ]
     },
     "execution_count": 43,
     "metadata": {},
     "output_type": "execute_result"
    }
   ],
   "source": [
    "len(submission[submission.Survived==0])"
   ]
  },
  {
   "cell_type": "code",
   "execution_count": null,
   "metadata": {},
   "outputs": [],
   "source": []
  }
 ],
 "metadata": {
  "kernelspec": {
   "display_name": "Python 2",
   "language": "python",
   "name": "python2"
  },
  "language_info": {
   "codemirror_mode": {
    "name": "ipython",
    "version": 2
   },
   "file_extension": ".py",
   "mimetype": "text/x-python",
   "name": "python",
   "nbconvert_exporter": "python",
   "pygments_lexer": "ipython2",
   "version": "2.7.15"
  }
 },
 "nbformat": 4,
 "nbformat_minor": 2
}
